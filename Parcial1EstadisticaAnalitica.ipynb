{
 "cells": [
  {
   "cell_type": "code",
   "execution_count": 1,
   "metadata": {},
   "outputs": [],
   "source": [
    "from sklearn.linear_model import LinearRegression, Ridge, LassoCV, ElasticNetCV, RidgeCV\n",
    "from sklearn.model_selection import train_test_split\n",
    "import numpy as np\n",
    "import numpy.linalg as lin\n",
    "import pandas as pd"
   ]
  },
  {
   "cell_type": "markdown",
   "metadata": {},
   "source": [
    "#### Loading neccesary functions"
   ]
  },
  {
   "cell_type": "code",
   "execution_count": 2,
   "metadata": {},
   "outputs": [],
   "source": [
    "def SSE(residuo):\n",
    "    return np.sum(residuo**2)"
   ]
  },
  {
   "cell_type": "code",
   "execution_count": 3,
   "metadata": {},
   "outputs": [],
   "source": [
    "def matriz_P(x):\n",
    "    \"\"\"\n",
    "    La matriz P es cuadrada simétrica e idempotente ()PP = P)\n",
    "    Tiene rango (m-1) es ortogonal al espacio definido por el vector 1 ya que P*1 = 0 y proyecta los\n",
    "    datos ortogonalmente al espacio deÞnido por el vector constante\n",
    "    \"\"\"\n",
    "    xx = np.array(x)\n",
    "    m,n = xx.shape\n",
    "    unos = np.ones([m,1])\n",
    "    Identidad = np.identity(m)\n",
    "    P = Identidad - float(1.0/m) * unos.dot(unos.T)\n",
    "    return P"
   ]
  },
  {
   "cell_type": "code",
   "execution_count": 4,
   "metadata": {},
   "outputs": [],
   "source": [
    "def Matriz_covarianzasCorregida(x):\n",
    "    \"\"\"\n",
    "    matriz de covarianzas a partir de los datos. OBSERVE que se divide por (n-1)\n",
    "    np.cov(Data, rowvar=False) # esta funcion me da la covarianza corregida\n",
    "    \"\"\"\n",
    "    xx = np.array(x)\n",
    "    m,n = xx.shape\n",
    "    P = matriz_P(x)\n",
    "    intermedio =P.dot(xx)\n",
    "    S = float(1.0/(m-1))*(xx.T.dot(intermedio))\n",
    "    return S"
   ]
  },
  {
   "cell_type": "markdown",
   "metadata": {},
   "source": [
    "#### Loading Data"
   ]
  },
  {
   "cell_type": "code",
   "execution_count": 5,
   "metadata": {},
   "outputs": [],
   "source": [
    "data_x = pd.read_csv('Parcail1_X.csv', header=None)\n",
    "data_y = pd.read_csv('Parcial1_Y.csv', header=None)"
   ]
  },
  {
   "cell_type": "markdown",
   "metadata": {},
   "source": [
    "## Exercise 1"
   ]
  },
  {
   "cell_type": "markdown",
   "metadata": {},
   "source": [
    "* Considerando solamente la matriz de diseño: construya el vector de correlaciones múlti- ples. Identifique la variable con mayor correlación múltiple y calcule los parámetros de la regresión lineal múltiple de la variable con el resto.\n"
   ]
  },
  {
   "cell_type": "code",
   "execution_count": 6,
   "metadata": {},
   "outputs": [
    {
     "data": {
      "text/plain": [
       "array([0.23084976, 0.33814122, 0.34215454, 0.26680149, 0.40910949,\n",
       "       0.32619677, 0.40339246, 0.33937762, 0.31210582, 0.48771293,\n",
       "       0.23399743, 0.30022438, 0.36049206, 0.30222769, 0.27359666,\n",
       "       0.33933888, 0.34923185, 0.28783846, 0.36279301, 0.31731815,\n",
       "       0.36811363, 0.26093089, 0.35540104, 0.30906682, 0.22561193,\n",
       "       0.30588389, 0.30642085, 0.20993376, 0.17022365, 0.45992115,\n",
       "       0.34784057, 0.34305944, 0.34077264, 0.28517046, 0.27128255,\n",
       "       0.33706736, 0.28196503, 0.26303462, 0.39485004, 0.359091  ,\n",
       "       0.21144963, 0.28206492, 0.4290079 , 0.23886279, 0.38808351,\n",
       "       0.41017884, 0.33359951, 0.27225882, 0.33538881, 0.3074104 ,\n",
       "       0.34644698, 0.35151336, 0.33873102, 0.23368131, 0.32289644,\n",
       "       0.3845235 , 0.32879048, 0.31627577, 0.3215374 , 0.30581107])"
      ]
     },
     "execution_count": 6,
     "metadata": {},
     "output_type": "execute_result"
    }
   ],
   "source": [
    "s_jj__jj = np.diag(Matriz_covarianzasCorregida(data_x))*np.diag(lin.inv(Matriz_covarianzasCorregida(data_x))).round(4)\n",
    "1 / s_jj__jj"
   ]
  },
  {
   "cell_type": "markdown",
   "metadata": {},
   "source": [
    "* Para ajustar un modelo de regresión de Y sobre X divida los datos en datos de entre- namiento y datos de testeo usando 60 % para los datos de entrenamiento."
   ]
  },
  {
   "cell_type": "code",
   "execution_count": 7,
   "metadata": {},
   "outputs": [],
   "source": [
    "X_train, X_test, y_train, y_test = train_test_split(data_x, data_y, test_size=0.4)"
   ]
  },
  {
   "cell_type": "code",
   "execution_count": 11,
   "metadata": {},
   "outputs": [
    {
     "data": {
      "text/plain": [
       "(0    1.838245e-23\n",
       " dtype: float64,\n",
       " 0    103635.347186\n",
       " dtype: float64,\n",
       " 60)"
      ]
     },
     "execution_count": 11,
     "metadata": {},
     "output_type": "execute_result"
    }
   ],
   "source": [
    "##Lineal Regression\n",
    "model_lineal = LinearRegression()\n",
    "model_lineal.fit(X_train, y_train)\n",
    "\n",
    "residuo_del_entrenamiento = y_train - model_lineal.predict(X_train)\n",
    "residuo_del_testeo = y_test - model_lineal.predict(X_test)\n",
    "\n",
    "sse_train = SSE(residuo_del_entrenamiento)\n",
    "sse_test = SSE(residuo_del_testeo)\n",
    "\n",
    "(sse_train, sse_test, np.count_nonzero(model_lineal.coef_))"
   ]
  },
  {
   "cell_type": "code",
   "execution_count": 12,
   "metadata": {},
   "outputs": [
    {
     "data": {
      "text/plain": [
       "(0    17.079513\n",
       " dtype: float64,\n",
       " 0    106629.31661\n",
       " dtype: float64,\n",
       " 60)"
      ]
     },
     "execution_count": 12,
     "metadata": {},
     "output_type": "execute_result"
    }
   ],
   "source": [
    "##Ridge\n",
    "model_ridge = RidgeCV()\n",
    "model_ridge.fit(X_train, y_train)\n",
    "\n",
    "residuo_del_entrenamiento = y_train - model_ridge.predict(X_train)\n",
    "sse_train = SSE(residuo_del_entrenamiento)\n",
    "\n",
    "residuo_del_testeo = y_test - model_ridge.predict(X_test)\n",
    "sse_test = SSE(residuo_del_testeo)\n",
    "\n",
    "(sse_train, sse_test, np.count_nonzero(model_ridge.coef_))"
   ]
  },
  {
   "cell_type": "code",
   "execution_count": 13,
   "metadata": {},
   "outputs": [
    {
     "name": "stderr",
     "output_type": "stream",
     "text": [
      "/usr/local/lib/python3.8/site-packages/sklearn/utils/validation.py:72: DataConversionWarning: A column-vector y was passed when a 1d array was expected. Please change the shape of y to (n_samples, ), for example using ravel().\n",
      "  return f(**kwargs)\n"
     ]
    },
    {
     "data": {
      "text/plain": [
       "(309320770.35501295, 137920034.58512193, 11)"
      ]
     },
     "execution_count": 13,
     "metadata": {},
     "output_type": "execute_result"
    }
   ],
   "source": [
    "##LassoCV\n",
    "model_lasso = LassoCV()\n",
    "model_lasso.fit(X_train, y_train)\n",
    "\n",
    "residuo_del_entrenamiento = y_train.values - model_lasso.predict(X_train)\n",
    "sse_train = SSE(residuo_del_entrenamiento)\n",
    "\n",
    "residuo_del_testeo = y_test.values - model_lasso.predict(X_test)\n",
    "sse_test = SSE(residuo_del_testeo)\n",
    "\n",
    "(sse_train, sse_test, np.count_nonzero(model_lasso.coef_))"
   ]
  },
  {
   "cell_type": "code",
   "execution_count": 14,
   "metadata": {},
   "outputs": [
    {
     "name": "stderr",
     "output_type": "stream",
     "text": [
      "/usr/local/lib/python3.8/site-packages/sklearn/utils/validation.py:72: DataConversionWarning: A column-vector y was passed when a 1d array was expected. Please change the shape of y to (n_samples, ), for example using ravel().\n",
      "  return f(**kwargs)\n"
     ]
    },
    {
     "data": {
      "text/plain": [
       "(286133206.806817, 107937930.96320719, 59)"
      ]
     },
     "execution_count": 14,
     "metadata": {},
     "output_type": "execute_result"
    }
   ],
   "source": [
    "##ElasticNetCV\n",
    "model_elastic = ElasticNetCV()\n",
    "model_elastic.fit(X_train, y_train)\n",
    "\n",
    "residuo_del_entrenamiento = y_train.values - model_elastic.predict(X_train)\n",
    "sse_train = SSE(residuo_del_entrenamiento)\n",
    "\n",
    "residuo_del_testeo = y_test.values - model_elastic.predict(X_test)\n",
    "sse_test = SSE(residuo_del_testeo)\n",
    "\n",
    "(sse_train, sse_test, np.count_nonzero(model_elastic.coef_))"
   ]
  },
  {
   "cell_type": "markdown",
   "metadata": {},
   "source": [
    "|   Model  |   Training Error  | Testing Error    | Num Params |\n",
    "|:--------:|:-----------------:|------------------|------------|\n",
    "| Linear R |    1.838245e-23   | 103635.347186    |   60       |           \n",
    "|   Ridge  |    17.079513      | 106629.31661     |   60       |\n",
    "| Lasso    | 309320770.35501295| 137920034.585121 |   11       |\n",
    "| Elastic  | 295099383.5953049 | 117801838.989155 |   59       |"
   ]
  },
  {
   "cell_type": "markdown",
   "metadata": {},
   "source": [
    "* De acuerdo a su modelo seleccionado. Construya un intervalo de confianza para el valor esperado de Y cuando X es igual al último dato de la muestra."
   ]
  },
  {
   "cell_type": "markdown",
   "metadata": {},
   "source": [
    "Selected model: Linear Regression"
   ]
  },
  {
   "cell_type": "code",
   "execution_count": 15,
   "metadata": {},
   "outputs": [],
   "source": [
    "last_x = data_x.values[-1]\n",
    "last_y = data_y.values[-1]\n",
    "n = data_x.shape[0]\n",
    "k = data_x.shape[1]\n",
    "\n",
    "a = [1]\n",
    "betas = [model_lineal.intercept_[0]]\n",
    "\n",
    "for i in last_x:\n",
    "    a.append(i)\n",
    "    \n",
    "for i in model_lineal.coef_[0]:\n",
    "    betas.append(i)"
   ]
  },
  {
   "cell_type": "code",
   "execution_count": 16,
   "metadata": {},
   "outputs": [],
   "source": [
    "a_b = np.transpose(a).dot(betas)"
   ]
  },
  {
   "cell_type": "code",
   "execution_count": 17,
   "metadata": {},
   "outputs": [
    {
     "data": {
      "text/html": [
       "<div>\n",
       "<style scoped>\n",
       "    .dataframe tbody tr th:only-of-type {\n",
       "        vertical-align: middle;\n",
       "    }\n",
       "\n",
       "    .dataframe tbody tr th {\n",
       "        vertical-align: top;\n",
       "    }\n",
       "\n",
       "    .dataframe thead th {\n",
       "        text-align: right;\n",
       "    }\n",
       "</style>\n",
       "<table border=\"1\" class=\"dataframe\">\n",
       "  <thead>\n",
       "    <tr style=\"text-align: right;\">\n",
       "      <th></th>\n",
       "      <th>0</th>\n",
       "    </tr>\n",
       "  </thead>\n",
       "  <tbody>\n",
       "    <tr>\n",
       "      <th>0</th>\n",
       "      <td>110.491866</td>\n",
       "    </tr>\n",
       "  </tbody>\n",
       "</table>\n",
       "</div>"
      ],
      "text/plain": [
       "            0\n",
       "0  110.491866"
      ]
     },
     "execution_count": 17,
     "metadata": {},
     "output_type": "execute_result"
    }
   ],
   "source": [
    "x_xtrans = lin.inv(np.transpose(data_x).dot(data_x))\n",
    "cov = np.sqrt(np.transpose(last_x).dot(x_xtrans).dot(last_x))\n",
    "s_2 = np.transpose(data_y).dot(data_y) - np.transpose(model_lineal.coef_[0]).dot(np.transpose(data_x)).dot(data_y)\n",
    "s = np.sqrt(s_2 / (n - k))\n",
    "t = 1.6973\n",
    "t * s * cov"
   ]
  },
  {
   "cell_type": "code",
   "execution_count": 18,
   "metadata": {},
   "outputs": [
    {
     "data": {
      "text/plain": [
       "-204.52350918826818"
      ]
     },
     "execution_count": 18,
     "metadata": {},
     "output_type": "execute_result"
    }
   ],
   "source": [
    "a_b"
   ]
  },
  {
   "cell_type": "markdown",
   "metadata": {},
   "source": [
    "T tiene 30 grados de libertad\n",
    "T_30 1 - alpha = 90% \n",
    "alpha / 2 = 0.05"
   ]
  },
  {
   "cell_type": "markdown",
   "metadata": {},
   "source": [
    "-204.523 +- 110.49 Intervalos de confianza"
   ]
  },
  {
   "cell_type": "markdown",
   "metadata": {},
   "source": [
    "## Exercise 2"
   ]
  },
  {
   "cell_type": "markdown",
   "metadata": {},
   "source": [
    "* Considere los siguientes datos (X, Y ) = {(−2, 0), (−1, 0), (0, 1), (1, 1), (2, 3)}.\n",
    "Se pretende evaluar la funcionalidad de un modelo de regresión ajustado a los datos del siguiente estilo"
   ]
  }
 ],
 "metadata": {
  "kernelspec": {
   "display_name": "Python 3",
   "language": "python",
   "name": "python3"
  },
  "language_info": {
   "codemirror_mode": {
    "name": "ipython",
    "version": 3
   },
   "file_extension": ".py",
   "mimetype": "text/x-python",
   "name": "python",
   "nbconvert_exporter": "python",
   "pygments_lexer": "ipython3",
   "version": "3.8.5"
  }
 },
 "nbformat": 4,
 "nbformat_minor": 4
}
